{
 "cells": [
  {
   "cell_type": "code",
   "execution_count": 1,
   "id": "a9f2c37c",
   "metadata": {},
   "outputs": [
    {
     "name": "stdout",
     "output_type": "stream",
     "text": [
      "Requirement already satisfied: numpy in c:\\users\\nagur\\miniconda3\\lib\\site-packages (2.0.2)\n",
      "Note: you may need to restart the kernel to use updated packages.\n"
     ]
    },
    {
     "name": "stderr",
     "output_type": "stream",
     "text": [
      "WARNING: Ignoring invalid distribution -umpy (c:\\users\\nagur\\miniconda3\\lib\\site-packages)\n",
      "WARNING: Ignoring invalid distribution -umpy (c:\\users\\nagur\\miniconda3\\lib\\site-packages)\n",
      "WARNING: Ignoring invalid distribution -umpy (c:\\users\\nagur\\miniconda3\\lib\\site-packages)\n",
      "WARNING: Ignoring invalid distribution -umpy (c:\\users\\nagur\\miniconda3\\lib\\site-packages)\n",
      "WARNING: Ignoring invalid distribution -umpy (c:\\users\\nagur\\miniconda3\\lib\\site-packages)\n",
      "WARNING: Ignoring invalid distribution -umpy (c:\\users\\nagur\\miniconda3\\lib\\site-packages)\n"
     ]
    }
   ],
   "source": [
    "pip install -U numpy "
   ]
  },
  {
   "cell_type": "code",
   "execution_count": 1,
   "id": "a81aa740",
   "metadata": {
    "scrolled": true
   },
   "outputs": [
    {
     "name": "stdout",
     "output_type": "stream",
     "text": [
      "11429\n"
     ]
    }
   ],
   "source": [
    "import cv2\n",
    "import numpy as np\n",
    "# Open a video capture\n",
    "cap = cv2.VideoCapture('bahubali.mp4')  # 0 for webcam, or replace with video file path\n",
    "frame_count = 0\n",
    "while True:\n",
    "    ret, frame = cap.read()\n",
    "    frame_count  += 1\n",
    "    if not ret:\n",
    "        break\n",
    "    \n",
    "    # Convert frame to grayscale\n",
    "    gray = cv2.cvtColor(frame, cv2.COLOR_BGR2GRAY)\n",
    "    #cv2.imshow(\"video_frames\", frame)\n",
    "    gray_3channel = cv2.merge((gray,gray,gray))\n",
    "    \n",
    "    combined = np.hstack((frame, gray_3channel))\n",
    "    cv2.imshow(\"video_frames\", combined)\n",
    "    # Exit on pressing 'q'\n",
    "    if cv2.waitKey(1) & 0xFF == ord('q'):\n",
    "        break\n",
    "# Release resources\n",
    "print(frame_count)\n",
    "cap.release()\n",
    "cv2.destroyAllWindows()"
   ]
  },
  {
   "cell_type": "code",
   "execution_count": null,
   "id": "6a5ce056",
   "metadata": {},
   "outputs": [],
   "source": [
    "import cv2\n",
    "import numpy as np\n",
    "# Open a video capture\n",
    "cap = cv2.VideoCapture('bahubali.mp4')  # 0 for webcam, or replace with video file path\n",
    "no_frames = 0\n",
    "while True:\n",
    "    ret, frame = cap.read()\n",
    "    no_frames =  no_frames +1 \n",
    "    if not ret:\n",
    "        break\n",
    "    \n",
    "    # Convert frame to grayscale\n",
    "    gray = cv2.cvtColor(frame, cv2.COLOR_BGR2GRAY)\n",
    "    \n",
    "    \n",
    "    cv2.rectangle(frame,(110,50),(250,300),(0,120,255),3)\n",
    "    #cv2.rectangle(frame,(110,50),(250,300),(120,234,255),cv2.FILLED)\n",
    "    \n",
    "    \n",
    "    cv2.circle(frame,(400,100),50,(125,55,89),5)\n",
    "    #cv2.circle(frame,(400,100),50,(255,123,35),cv2.FILLED)\n",
    "    \n",
    "    cv2.imshow(\"video_frames\", frame)\n",
    "    cv2.imshow(\"video_frames_gray\", gray)\n",
    "    \n",
    "    # Exit on pressing 'q'\n",
    "    if cv2.waitKey(1) & 0xFF == ord('q'):\n",
    "        break\n",
    "# Release resources\n",
    "print(no_frames)\n",
    "cap.release()\n",
    "cv2.destroyAllWindows()\n"
   ]
  },
  {
   "cell_type": "code",
   "execution_count": 2,
   "id": "d13c4697",
   "metadata": {},
   "outputs": [],
   "source": [
    "import cv2\n",
    "import numpy as np\n",
    "\n",
    "# Open a video capture\n",
    "cap = cv2.VideoCapture('bahubali.mp4')  # 0 for webcam, or replace with video file path\n",
    "\n",
    "while True:\n",
    "    ret, frame = cap.read()\n",
    "    if not ret:\n",
    "        break\n",
    "\n",
    "    # Convert frame to grayscale\n",
    "    gray = cv2.cvtColor(frame, cv2.COLOR_BGR2GRAY)\n",
    "\n",
    "    # Apply Gaussian Blur to reduce noise\n",
    "    blurred = cv2.GaussianBlur(gray, (5, 5), 0)\n",
    "\n",
    "    # Apply edge detection (Canny)\n",
    "    edges = cv2.Canny(blurred, 50, 150)\n",
    "\n",
    "    # Find contours\n",
    "    contours, _ = cv2.findContours(edges, cv2.RETR_EXTERNAL, cv2.CHAIN_APPROX_SIMPLE)\n",
    "\n",
    "    # Draw contours\n",
    "    for contour in contours:\n",
    "        if cv2.contourArea(contour) > 500:  # Filter small objects\n",
    "            x, y, w, h = cv2.boundingRect(contour)\n",
    "            cv2.rectangle(frame, (x, y), (x + w, y + h), (0, 255, 0), 2)\n",
    "\n",
    "    # Display the frame\n",
    "    cv2.imshow(\"Contour Tracking\", frame)\n",
    "    cv2.imshow(\"Contour gray\", gray)\n",
    "    cv2.imshow(\"Contour blurred\", blurred)\n",
    "    cv2.imshow(\"Contour edges\", edges)\n",
    "\n",
    "    # Exit on pressing 'q'\n",
    "    if cv2.waitKey(1) & 0xFF == ord('q'):\n",
    "        break\n",
    "\n",
    "# Release resources\n",
    "cap.release()\n",
    "cv2.destroyAllWindows()\n"
   ]
  },
  {
   "cell_type": "code",
   "execution_count": null,
   "id": "f2487e3c",
   "metadata": {},
   "outputs": [],
   "source": [
    "import cv2\n",
    "cap = cv2.VideoCapture('bahubali.mp4')\n",
    "\n",
    "backgroundobject = cv2.createBackgroundSubtractorMOG2( history = 2, detectShadows = True )\n",
    "\n",
    "while(1):\n",
    "    ret, frame = cap.read()  \n",
    "    if not ret:\n",
    "        break\n",
    "\n",
    "    fgmask = backgroundobject.apply(frame)\n",
    "\n",
    "    real_part = cv2.bitwise_and(frame,frame,mask=fgmask)\n",
    "\n",
    "    fgmask_3 = cv2.cvtColor(fgmask, cv2.COLOR_GRAY2BGR)\n",
    "\n",
    "    stacked = np.hstack((fgmask_3,frame,real_part))\n",
    "    cv2.imshow('All three',cv2.resize(stacked,None,fx=0.65,fy=0.65))\n",
    "\n",
    "    k = cv2.waitKey(30) &  0xff\n",
    "    if k == 27:\n",
    "        break\n",
    "\n",
    "cap.release()\n",
    "cv2.destroyAllWindows()"
   ]
  },
  {
   "cell_type": "code",
   "execution_count": null,
   "id": "2f1c92fe",
   "metadata": {},
   "outputs": [],
   "source": []
  }
 ],
 "metadata": {
  "kernelspec": {
   "display_name": "myenv",
   "language": "python",
   "name": "myenv"
  },
  "language_info": {
   "codemirror_mode": {
    "name": "ipython",
    "version": 3
   },
   "file_extension": ".py",
   "mimetype": "text/x-python",
   "name": "python",
   "nbconvert_exporter": "python",
   "pygments_lexer": "ipython3",
   "version": "3.10.0"
  }
 },
 "nbformat": 4,
 "nbformat_minor": 5
}
