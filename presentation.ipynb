{
 "cells": [
  {
   "cell_type": "code",
   "execution_count": null,
   "id": "c5868e98",
   "metadata": {},
   "outputs": [],
   "source": []
  },
  {
   "cell_type": "code",
   "execution_count": 2,
   "id": "d36a94da",
   "metadata": {},
   "outputs": [
    {
     "name": "stdout",
     "output_type": "stream",
     "text": [
      "Video saved as presentation2.avi\n"
     ]
    }
   ],
   "source": [
    "import cv2\n",
    "import numpy as np\n",
    "import time\n",
    "\n",
    "# Define video properties\n",
    "frame_width = 640\n",
    "frame_height = 480\n",
    "frame_rate = 2  # Frames per second\n",
    "video_filename = \"presentation2.avi\"\n",
    "\n",
    "# Define codec and create VideoWriter object\n",
    "fourcc = cv2.VideoWriter_fourcc(*'XVID')\n",
    "out = cv2.VideoWriter(video_filename, fourcc, frame_rate, (frame_width, frame_height))\n",
    "\n",
    "# List of colors for different frames\n",
    "colors = [(0, 0, 0), (255, 0, 0), (0, 255, 0), (0, 0, 255)]  # Black, Blue, Green, Red\n",
    "\n",
    "for i, color in enumerate(colors):\n",
    "    # Create an image with the selected color\n",
    "    frame = np.zeros((frame_height, frame_width, 3), dtype=np.uint8)\n",
    "    frame[:] = color  # Fill frame with color\n",
    "\n",
    "    # Draw shapes and text\n",
    "    cv2.putText(frame, f\"Slide {i+1}\", (50, 50), cv2.FONT_HERSHEY_SIMPLEX, 1, (255, 255, 255), 2)\n",
    "    cv2.rectangle(frame, (100, 100), (300, 300), (255, 255, 255), 2)\n",
    "    cv2.circle(frame, (450, 200), 50, (255, 255, 255), 2)\n",
    "    cv2.line(frame, (50, 400), (590, 400), (255, 255, 255), 2)\n",
    "    \n",
    "    # Write the frame to the video\n",
    "    out.write(frame)\n",
    "    \n",
    "    # Display the frame (optional)\n",
    "    cv2.imshow('Presentation', frame)\n",
    "    cv2.waitKey(1000)  # Wait for 1 second\n",
    "\n",
    "# Release everything when done\n",
    "out.release()\n",
    "cv2.destroyAllWindows()\n",
    "\n",
    "print(f\"Video saved as {video_filename}\")\n"
   ]
  },
  {
   "cell_type": "code",
   "execution_count": 3,
   "id": "a5e44b4f",
   "metadata": {},
   "outputs": [
    {
     "name": "stdout",
     "output_type": "stream",
     "text": [
      "Video saved as presentation.mp4\n"
     ]
    }
   ],
   "source": [
    "import cv2\n",
    "import numpy as np\n",
    "import time\n",
    "\n",
    "# Define video properties\n",
    "frame_width = 640\n",
    "frame_height = 480\n",
    "frame_rate = 2  # Frames per second\n",
    "video_filename = \"presentation.mp4\"\n",
    "\n",
    "# Define codec and create VideoWriter object\n",
    "fourcc = cv2.VideoWriter_fourcc(*'mp4v')  # Change codec to MP4\n",
    "out = cv2.VideoWriter(video_filename, fourcc, frame_rate, (frame_width, frame_height))\n",
    "\n",
    "# List of colors for different frames\n",
    "colors = [(0, 0, 0), (255, 0, 0), (0, 255, 0), (0, 0, 255)]  # Black, Blue, Green, Red\n",
    "\n",
    "for i, color in enumerate(colors):\n",
    "    # Create an image with the selected color\n",
    "    frame = np.zeros((frame_height, frame_width, 3), dtype=np.uint8)\n",
    "    frame[:] = color  # Fill frame with color\n",
    "\n",
    "    # Draw shapes and text\n",
    "    cv2.putText(frame, f\"Slide {i+1}\", (50, 50), cv2.FONT_HERSHEY_SIMPLEX, 1, (255, 255, 255), 2)\n",
    "    cv2.rectangle(frame, (100, 100), (300, 300), (255, 255, 255), 2)\n",
    "    cv2.circle(frame, (450, 200), 50, (255, 255, 255), 2)\n",
    "    cv2.line(frame, (50, 400), (590, 400), (255, 255, 255), 2)\n",
    "    \n",
    "    # Write the frame to the video\n",
    "    out.write(frame)\n",
    "    \n",
    "    # Display the frame (optional)\n",
    "    cv2.imshow('Presentation', frame)\n",
    "    cv2.waitKey(1000)  # Wait for 1 second\n",
    "\n",
    "# Release everything when done\n",
    "out.release()\n",
    "cv2.destroyAllWindows()\n",
    "\n",
    "print(f\"Video saved as {video_filename}\")\n"
   ]
  },
  {
   "cell_type": "code",
   "execution_count": null,
   "id": "dbfa514d",
   "metadata": {},
   "outputs": [],
   "source": []
  },
  {
   "cell_type": "code",
   "execution_count": 4,
   "id": "f108fab7",
   "metadata": {},
   "outputs": [
    {
     "name": "stdout",
     "output_type": "stream",
     "text": [
      "Video saved as presentation2.mp4\n"
     ]
    }
   ],
   "source": [
    "import cv2\n",
    "import numpy as np\n",
    "\n",
    "# Define video properties\n",
    "frame_width = 640\n",
    "frame_height = 480\n",
    "frame_rate = 2  # Frames per second\n",
    "video_filename = \"presentation2.mp4\"\n",
    "duration = 30  # Total video duration in seconds\n",
    "frames_count = frame_rate * duration  # Total frames\n",
    "\n",
    "# Define codec and create VideoWriter object\n",
    "fourcc = cv2.VideoWriter_fourcc(*'mp4v')  # MP4 codec\n",
    "out = cv2.VideoWriter(video_filename, fourcc, frame_rate, (frame_width, frame_height))\n",
    "\n",
    "# List of colors for different frames\n",
    "colors = [(0, 0, 0), (255, 0, 0), (0, 255, 0), (0, 0, 255), (255, 255, 0), (255, 0, 255), (0, 255, 255)]\n",
    "\n",
    "# Content for frames\n",
    "content = [\n",
    "    \"Retained Players:\",\n",
    "    \"Rishabh Pant: Lucknow Super Giants retained him for ₹27 crore.\",\n",
    "    \"Virat Kohli: Royal Challengers Bangalore retained him for ₹21 crore.\",\n",
    "    \"Nicholas Pooran: Lucknow Super Giants retained him for ₹21 crore.\",\n",
    "    \"Axar Patel: Delhi Capitals retained him for ₹18 crore.\",\n",
    "    \"Jasprit Bumrah: Mumbai Indians retained him for ₹18 crore.\",\n",
    "    \"Hardik Pandya: Mumbai Indians retained him for ₹16.35 crore.\",\n",
    "    \"Shreyas Iyer: Punjab Kings retained him for ₹26.75 crore.\",\n",
    "    \"Sai Sudharsan: Gujarat Titans retained him for ₹8.5 crore.\",\n",
    "    \"Rahul Tewatia: Gujarat Titans retained him for ₹4 crore.\",\n",
    "    \"Shivam Dube: Chennai Super Kings retained him for ₹12 crore.\",\n",
    "    \"Dhruv Jurel: Rajasthan Royals retained him for ₹14 crore.\",\n",
    "    \"Ishan Kishan: Sunrisers Hyderabad acquired him for ₹11.25 crore.\",\n",
    "    \"Deepak Chahar: Mumbai Indians acquired him for ₹9.25 crore.\",\n",
    "    \"Arshdeep Singh: Punjab Kings acquired him for ₹18.50 crore.\",\n",
    "    \"Vansh Bedi: Chennai Super Kings acquired him for ₹55 lakh.\",\n",
    "    \"Players Acquired in the Auction:\",\n",
    "    \"Ravichandran Ashwin: Chennai Super Kings bought him for ₹9.75 crore.\",\n",
    "    \"Noor Ahmad: Chennai Super Kings bought him for ₹10 crore.\",\n",
    "    \"Rahul Tripathi: Chennai Super Kings bought him for ₹3.4 crore.\",\n",
    "    \"Vijay Shankar: Chennai Super Kings bought him for ₹1.2 crore.\",\n",
    "    \"Deepak Hooda: Chennai Super Kings bought him for ₹1.7 crore.\",\n",
    "    \"Shreyas Gopal: Chennai Super Kings bought him for ₹30 lakh.\",\n",
    "    \"Jamie Overton: Chennai Super Kings bought him for ₹1.5 crore.\",\n",
    "    \"KL Rahul: Delhi Capitals bought him for ₹14 crore.\",\n",
    "    \"Vaibhav Suryavanshi: Became the youngest cricketer to be shortlisted for an IPL auction.\"\n",
    "]\n",
    "\n",
    "# Generate frames\n",
    "for i, text in enumerate(content):\n",
    "    color = colors[i % len(colors)]  # Cycle through colors\n",
    "    frame = np.zeros((frame_height, frame_width, 3), dtype=np.uint8)\n",
    "    frame[:] = color  # Fill frame with color\n",
    "\n",
    "    # Put text on the frame\n",
    "    cv2.putText(frame, text, (50, 240), cv2.FONT_HERSHEY_SIMPLEX, 0.7, (255, 255, 255), 2, cv2.LINE_AA)\n",
    "    \n",
    "    # Write the frame to the video\n",
    "    out.write(frame)\n",
    "    \n",
    "    # Display the frame (optional)\n",
    "    cv2.imshow('Presentation', frame)\n",
    "    cv2.waitKey(1000)  # Wait for 1 second per frame\n",
    "\n",
    "# Release everything when done\n",
    "out.release()\n",
    "cv2.destroyAllWindows()\n",
    "\n",
    "print(f\"Video saved as {video_filename}\")\n"
   ]
  },
  {
   "cell_type": "code",
   "execution_count": null,
   "id": "0ef553f4",
   "metadata": {},
   "outputs": [],
   "source": []
  },
  {
   "cell_type": "code",
   "execution_count": 6,
   "id": "46f07412",
   "metadata": {},
   "outputs": [
    {
     "name": "stdout",
     "output_type": "stream",
     "text": [
      "Video saved as presentation4.mp4\n"
     ]
    }
   ],
   "source": [
    "import cv2\n",
    "import numpy as np\n",
    "import random\n",
    "\n",
    "# Define video properties\n",
    "frame_width = 640\n",
    "frame_height = 480\n",
    "frame_rate = 2  # Frames per second\n",
    "video_filename = \"presentation4.mp4\"\n",
    "duration = 30  # Total video duration in seconds\n",
    "frames_count = frame_rate * duration  # Total frames\n",
    "\n",
    "# Define codec and create VideoWriter object\n",
    "fourcc = cv2.VideoWriter_fourcc(*'mp4v')  # MP4 codec\n",
    "out = cv2.VideoWriter(video_filename, fourcc, frame_rate, (frame_width, frame_height))\n",
    "\n",
    "# Content for frames\n",
    "content = [\n",
    "    \"Retained Players:\",\n",
    "    \"Rishabh Pant: Lucknow Super Giants retained him for ₹27 crore.\",\n",
    "    \"Virat Kohli: Royal Challengers Bangalore retained him for ₹21 crore.\",\n",
    "    \"Nicholas Pooran: Lucknow Super Giants retained him for ₹21 crore.\",\n",
    "    \"Axar Patel: Delhi Capitals retained him for ₹18 crore.\",\n",
    "    \"Jasprit Bumrah: Mumbai Indians retained him for ₹18 crore.\",\n",
    "    \"Hardik Pandya: Mumbai Indians retained him for ₹16.35 crore.\",\n",
    "    \"Shreyas Iyer: Punjab Kings retained him for ₹26.75 crore.\",\n",
    "    \"Sai Sudharsan: Gujarat Titans retained him for ₹8.5 crore.\",\n",
    "    \"Rahul Tewatia: Gujarat Titans retained him for ₹4 crore.\",\n",
    "    \"Shivam Dube: Chennai Super Kings retained him for ₹12 crore.\",\n",
    "    \"Dhruv Jurel: Rajasthan Royals retained him for ₹14 crore.\",\n",
    "    \"Ishan Kishan: Sunrisers Hyderabad acquired him for ₹11.25 crore.\",\n",
    "    \"Deepak Chahar: Mumbai Indians acquired him for ₹9.25 crore.\",\n",
    "    \"Arshdeep Singh: Punjab Kings acquired him for ₹18.50 crore.\",\n",
    "    \"Vansh Bedi: Chennai Super Kings acquired him for ₹55 lakh.\",\n",
    "    \"Players Acquired in the Auction:\",\n",
    "    \"Ravichandran Ashwin: Chennai Super Kings bought him for ₹9.75 crore.\",\n",
    "    \"Noor Ahmad: Chennai Super Kings bought him for ₹10 crore.\",\n",
    "    \"Rahul Tripathi: Chennai Super Kings bought him for ₹3.4 crore.\",\n",
    "    \"Vijay Shankar: Chennai Super Kings bought him for ₹1.2 crore.\",\n",
    "    \"Deepak Hooda: Chennai Super Kings bought him for ₹1.7 crore.\",\n",
    "    \"Shreyas Gopal: Chennai Super Kings bought him for ₹30 lakh.\",\n",
    "    \"Jamie Overton: Chennai Super Kings bought him for ₹1.5 crore.\",\n",
    "    \"KL Rahul: Delhi Capitals bought him for ₹14 crore.\",\n",
    "    \"Vaibhav Suryavanshi: Became the youngest cricketer to be shortlisted for an IPL auction.\"\n",
    "]\n",
    "\n",
    "# Function to generate random light colors\n",
    "def random_light_color():\n",
    "    return (random.randint(150, 255), random.randint(150, 255), random.randint(150, 255))\n",
    "\n",
    "# Generate frames\n",
    "for i, text in enumerate(content):\n",
    "    color = random_light_color()  # Generate a random light color\n",
    "    frame = np.zeros((frame_height, frame_width, 3), dtype=np.uint8)\n",
    "    frame[:] = color  # Fill frame with color\n",
    "\n",
    "    # Split text into multiple lines if necessary\n",
    "    max_line_length = 50  # Max characters per line\n",
    "    lines = [text[i:i + max_line_length] for i in range(0, len(text), max_line_length)]\n",
    "    \n",
    "    # Calculate vertical spacing for text\n",
    "    y_position = 100  # Start position for the first line\n",
    "    line_spacing = 40  # Space between lines\n",
    "    for line in lines:\n",
    "        cv2.putText(frame, line, (50, y_position), cv2.FONT_HERSHEY_SIMPLEX, 0.7, (0, 0, 0), 2, cv2.LINE_AA)\n",
    "        y_position += line_spacing\n",
    "    \n",
    "    # Write the frame to the video\n",
    "    out.write(frame)\n",
    "    \n",
    "    # Display the frame (optional)\n",
    "    cv2.imshow('Presentation', frame)\n",
    "    cv2.waitKey(3000)  # Wait for 1 second per frame\n",
    "\n",
    "# Release everything when done\n",
    "out.release()\n",
    "cv2.destroyAllWindows()\n",
    "\n",
    "print(f\"Video saved as {video_filename}\")\n"
   ]
  },
  {
   "cell_type": "code",
   "execution_count": 12,
   "id": "f9fab12b",
   "metadata": {},
   "outputs": [
    {
     "ename": "HTTPError",
     "evalue": "HTTP Error 400: Bad Request",
     "output_type": "error",
     "traceback": [
      "\u001b[1;31m---------------------------------------------------------------------------\u001b[0m",
      "\u001b[1;31mHTTPError\u001b[0m                                 Traceback (most recent call last)",
      "Cell \u001b[1;32mIn[12], line 11\u001b[0m\n\u001b[0;32m      9\u001b[0m \u001b[38;5;66;03m# Download the video\u001b[39;00m\n\u001b[0;32m     10\u001b[0m yt \u001b[38;5;241m=\u001b[39m pytube\u001b[38;5;241m.\u001b[39mYouTube(youtube_url)\n\u001b[1;32m---> 11\u001b[0m video_stream \u001b[38;5;241m=\u001b[39m \u001b[43myt\u001b[49m\u001b[38;5;241;43m.\u001b[39;49m\u001b[43mstreams\u001b[49m\u001b[38;5;241m.\u001b[39mfilter(res\u001b[38;5;241m=\u001b[39m\u001b[38;5;124m\"\u001b[39m\u001b[38;5;124m720p\u001b[39m\u001b[38;5;124m\"\u001b[39m, file_extension\u001b[38;5;241m=\u001b[39m\u001b[38;5;124m\"\u001b[39m\u001b[38;5;124mmp4\u001b[39m\u001b[38;5;124m\"\u001b[39m)\u001b[38;5;241m.\u001b[39mfirst()\n\u001b[0;32m     12\u001b[0m audio_stream \u001b[38;5;241m=\u001b[39m yt\u001b[38;5;241m.\u001b[39mstreams\u001b[38;5;241m.\u001b[39mfilter(only_audio\u001b[38;5;241m=\u001b[39m\u001b[38;5;28;01mTrue\u001b[39;00m, file_extension\u001b[38;5;241m=\u001b[39m\u001b[38;5;124m\"\u001b[39m\u001b[38;5;124mmp4\u001b[39m\u001b[38;5;124m\"\u001b[39m)\u001b[38;5;241m.\u001b[39mfirst()\n\u001b[0;32m     14\u001b[0m \u001b[38;5;66;03m# Define file paths\u001b[39;00m\n",
      "File \u001b[1;32m~\\miniconda3\\lib\\site-packages\\pytube\\__main__.py:296\u001b[0m, in \u001b[0;36mYouTube.streams\u001b[1;34m(self)\u001b[0m\n\u001b[0;32m    291\u001b[0m \u001b[38;5;250m\u001b[39m\u001b[38;5;124;03m\"\"\"Interface to query both adaptive (DASH) and progressive streams.\u001b[39;00m\n\u001b[0;32m    292\u001b[0m \n\u001b[0;32m    293\u001b[0m \u001b[38;5;124;03m:rtype: :class:`StreamQuery <StreamQuery>`.\u001b[39;00m\n\u001b[0;32m    294\u001b[0m \u001b[38;5;124;03m\"\"\"\u001b[39;00m\n\u001b[0;32m    295\u001b[0m \u001b[38;5;28mself\u001b[39m\u001b[38;5;241m.\u001b[39mcheck_availability()\n\u001b[1;32m--> 296\u001b[0m \u001b[38;5;28;01mreturn\u001b[39;00m StreamQuery(\u001b[38;5;28;43mself\u001b[39;49m\u001b[38;5;241;43m.\u001b[39;49m\u001b[43mfmt_streams\u001b[49m)\n",
      "File \u001b[1;32m~\\miniconda3\\lib\\site-packages\\pytube\\__main__.py:176\u001b[0m, in \u001b[0;36mYouTube.fmt_streams\u001b[1;34m(self)\u001b[0m\n\u001b[0;32m    172\u001b[0m     \u001b[38;5;28;01mreturn\u001b[39;00m \u001b[38;5;28mself\u001b[39m\u001b[38;5;241m.\u001b[39m_fmt_streams\n\u001b[0;32m    174\u001b[0m \u001b[38;5;28mself\u001b[39m\u001b[38;5;241m.\u001b[39m_fmt_streams \u001b[38;5;241m=\u001b[39m []\n\u001b[1;32m--> 176\u001b[0m stream_manifest \u001b[38;5;241m=\u001b[39m extract\u001b[38;5;241m.\u001b[39mapply_descrambler(\u001b[38;5;28;43mself\u001b[39;49m\u001b[38;5;241;43m.\u001b[39;49m\u001b[43mstreaming_data\u001b[49m)\n\u001b[0;32m    178\u001b[0m \u001b[38;5;66;03m# If the cached js doesn't work, try fetching a new js file\u001b[39;00m\n\u001b[0;32m    179\u001b[0m \u001b[38;5;66;03m# https://github.com/pytube/pytube/issues/1054\u001b[39;00m\n\u001b[0;32m    180\u001b[0m \u001b[38;5;28;01mtry\u001b[39;00m:\n",
      "File \u001b[1;32m~\\miniconda3\\lib\\site-packages\\pytube\\__main__.py:157\u001b[0m, in \u001b[0;36mYouTube.streaming_data\u001b[1;34m(self)\u001b[0m\n\u001b[0;32m    154\u001b[0m \u001b[38;5;129m@property\u001b[39m\n\u001b[0;32m    155\u001b[0m \u001b[38;5;28;01mdef\u001b[39;00m\u001b[38;5;250m \u001b[39m\u001b[38;5;21mstreaming_data\u001b[39m(\u001b[38;5;28mself\u001b[39m):\n\u001b[0;32m    156\u001b[0m \u001b[38;5;250m    \u001b[39m\u001b[38;5;124;03m\"\"\"Return streamingData from video info.\"\"\"\u001b[39;00m\n\u001b[1;32m--> 157\u001b[0m     \u001b[38;5;28;01mif\u001b[39;00m \u001b[38;5;124m'\u001b[39m\u001b[38;5;124mstreamingData\u001b[39m\u001b[38;5;124m'\u001b[39m \u001b[38;5;129;01min\u001b[39;00m \u001b[38;5;28;43mself\u001b[39;49m\u001b[38;5;241;43m.\u001b[39;49m\u001b[43mvid_info\u001b[49m:\n\u001b[0;32m    158\u001b[0m         \u001b[38;5;28;01mreturn\u001b[39;00m \u001b[38;5;28mself\u001b[39m\u001b[38;5;241m.\u001b[39mvid_info[\u001b[38;5;124m'\u001b[39m\u001b[38;5;124mstreamingData\u001b[39m\u001b[38;5;124m'\u001b[39m]\n\u001b[0;32m    159\u001b[0m     \u001b[38;5;28;01melse\u001b[39;00m:\n",
      "File \u001b[1;32m~\\miniconda3\\lib\\site-packages\\pytube\\__main__.py:246\u001b[0m, in \u001b[0;36mYouTube.vid_info\u001b[1;34m(self)\u001b[0m\n\u001b[0;32m    242\u001b[0m     \u001b[38;5;28;01mreturn\u001b[39;00m \u001b[38;5;28mself\u001b[39m\u001b[38;5;241m.\u001b[39m_vid_info\n\u001b[0;32m    244\u001b[0m innertube \u001b[38;5;241m=\u001b[39m InnerTube(use_oauth\u001b[38;5;241m=\u001b[39m\u001b[38;5;28mself\u001b[39m\u001b[38;5;241m.\u001b[39muse_oauth, allow_cache\u001b[38;5;241m=\u001b[39m\u001b[38;5;28mself\u001b[39m\u001b[38;5;241m.\u001b[39mallow_oauth_cache)\n\u001b[1;32m--> 246\u001b[0m innertube_response \u001b[38;5;241m=\u001b[39m \u001b[43minnertube\u001b[49m\u001b[38;5;241;43m.\u001b[39;49m\u001b[43mplayer\u001b[49m\u001b[43m(\u001b[49m\u001b[38;5;28;43mself\u001b[39;49m\u001b[38;5;241;43m.\u001b[39;49m\u001b[43mvideo_id\u001b[49m\u001b[43m)\u001b[49m\n\u001b[0;32m    247\u001b[0m \u001b[38;5;28mself\u001b[39m\u001b[38;5;241m.\u001b[39m_vid_info \u001b[38;5;241m=\u001b[39m innertube_response\n\u001b[0;32m    248\u001b[0m \u001b[38;5;28;01mreturn\u001b[39;00m \u001b[38;5;28mself\u001b[39m\u001b[38;5;241m.\u001b[39m_vid_info\n",
      "File \u001b[1;32m~\\miniconda3\\lib\\site-packages\\pytube\\innertube.py:448\u001b[0m, in \u001b[0;36mInnerTube.player\u001b[1;34m(self, video_id)\u001b[0m\n\u001b[0;32m    444\u001b[0m query \u001b[38;5;241m=\u001b[39m {\n\u001b[0;32m    445\u001b[0m     \u001b[38;5;124m'\u001b[39m\u001b[38;5;124mvideoId\u001b[39m\u001b[38;5;124m'\u001b[39m: video_id,\n\u001b[0;32m    446\u001b[0m }\n\u001b[0;32m    447\u001b[0m query\u001b[38;5;241m.\u001b[39mupdate(\u001b[38;5;28mself\u001b[39m\u001b[38;5;241m.\u001b[39mbase_params)\n\u001b[1;32m--> 448\u001b[0m \u001b[38;5;28;01mreturn\u001b[39;00m \u001b[38;5;28;43mself\u001b[39;49m\u001b[38;5;241;43m.\u001b[39;49m\u001b[43m_call_api\u001b[49m\u001b[43m(\u001b[49m\u001b[43mendpoint\u001b[49m\u001b[43m,\u001b[49m\u001b[43m \u001b[49m\u001b[43mquery\u001b[49m\u001b[43m,\u001b[49m\u001b[43m \u001b[49m\u001b[38;5;28;43mself\u001b[39;49m\u001b[38;5;241;43m.\u001b[39;49m\u001b[43mbase_data\u001b[49m\u001b[43m)\u001b[49m\n",
      "File \u001b[1;32m~\\miniconda3\\lib\\site-packages\\pytube\\innertube.py:390\u001b[0m, in \u001b[0;36mInnerTube._call_api\u001b[1;34m(self, endpoint, query, data)\u001b[0m\n\u001b[0;32m    386\u001b[0m         headers[\u001b[38;5;124m'\u001b[39m\u001b[38;5;124mAuthorization\u001b[39m\u001b[38;5;124m'\u001b[39m] \u001b[38;5;241m=\u001b[39m \u001b[38;5;124mf\u001b[39m\u001b[38;5;124m'\u001b[39m\u001b[38;5;124mBearer \u001b[39m\u001b[38;5;132;01m{\u001b[39;00m\u001b[38;5;28mself\u001b[39m\u001b[38;5;241m.\u001b[39maccess_token\u001b[38;5;132;01m}\u001b[39;00m\u001b[38;5;124m'\u001b[39m\n\u001b[0;32m    388\u001b[0m headers\u001b[38;5;241m.\u001b[39mupdate(\u001b[38;5;28mself\u001b[39m\u001b[38;5;241m.\u001b[39mheader)\n\u001b[1;32m--> 390\u001b[0m response \u001b[38;5;241m=\u001b[39m \u001b[43mrequest\u001b[49m\u001b[38;5;241;43m.\u001b[39;49m\u001b[43m_execute_request\u001b[49m\u001b[43m(\u001b[49m\n\u001b[0;32m    391\u001b[0m \u001b[43m    \u001b[49m\u001b[43mendpoint_url\u001b[49m\u001b[43m,\u001b[49m\n\u001b[0;32m    392\u001b[0m \u001b[43m    \u001b[49m\u001b[38;5;124;43m'\u001b[39;49m\u001b[38;5;124;43mPOST\u001b[39;49m\u001b[38;5;124;43m'\u001b[39;49m\u001b[43m,\u001b[49m\n\u001b[0;32m    393\u001b[0m \u001b[43m    \u001b[49m\u001b[43mheaders\u001b[49m\u001b[38;5;241;43m=\u001b[39;49m\u001b[43mheaders\u001b[49m\u001b[43m,\u001b[49m\n\u001b[0;32m    394\u001b[0m \u001b[43m    \u001b[49m\u001b[43mdata\u001b[49m\u001b[38;5;241;43m=\u001b[39;49m\u001b[43mdata\u001b[49m\n\u001b[0;32m    395\u001b[0m \u001b[43m\u001b[49m\u001b[43m)\u001b[49m\n\u001b[0;32m    396\u001b[0m \u001b[38;5;28;01mreturn\u001b[39;00m json\u001b[38;5;241m.\u001b[39mloads(response\u001b[38;5;241m.\u001b[39mread())\n",
      "File \u001b[1;32m~\\miniconda3\\lib\\site-packages\\pytube\\request.py:37\u001b[0m, in \u001b[0;36m_execute_request\u001b[1;34m(url, method, headers, data, timeout)\u001b[0m\n\u001b[0;32m     35\u001b[0m \u001b[38;5;28;01melse\u001b[39;00m:\n\u001b[0;32m     36\u001b[0m     \u001b[38;5;28;01mraise\u001b[39;00m \u001b[38;5;167;01mValueError\u001b[39;00m(\u001b[38;5;124m\"\u001b[39m\u001b[38;5;124mInvalid URL\u001b[39m\u001b[38;5;124m\"\u001b[39m)\n\u001b[1;32m---> 37\u001b[0m \u001b[38;5;28;01mreturn\u001b[39;00m \u001b[43murlopen\u001b[49m\u001b[43m(\u001b[49m\u001b[43mrequest\u001b[49m\u001b[43m,\u001b[49m\u001b[43m \u001b[49m\u001b[43mtimeout\u001b[49m\u001b[38;5;241;43m=\u001b[39;49m\u001b[43mtimeout\u001b[49m\u001b[43m)\u001b[49m\n",
      "File \u001b[1;32m~\\miniconda3\\lib\\urllib\\request.py:214\u001b[0m, in \u001b[0;36murlopen\u001b[1;34m(url, data, timeout, cafile, capath, cadefault, context)\u001b[0m\n\u001b[0;32m    212\u001b[0m \u001b[38;5;28;01melse\u001b[39;00m:\n\u001b[0;32m    213\u001b[0m     opener \u001b[38;5;241m=\u001b[39m _opener\n\u001b[1;32m--> 214\u001b[0m \u001b[38;5;28;01mreturn\u001b[39;00m \u001b[43mopener\u001b[49m\u001b[38;5;241;43m.\u001b[39;49m\u001b[43mopen\u001b[49m\u001b[43m(\u001b[49m\u001b[43murl\u001b[49m\u001b[43m,\u001b[49m\u001b[43m \u001b[49m\u001b[43mdata\u001b[49m\u001b[43m,\u001b[49m\u001b[43m \u001b[49m\u001b[43mtimeout\u001b[49m\u001b[43m)\u001b[49m\n",
      "File \u001b[1;32m~\\miniconda3\\lib\\urllib\\request.py:523\u001b[0m, in \u001b[0;36mOpenerDirector.open\u001b[1;34m(self, fullurl, data, timeout)\u001b[0m\n\u001b[0;32m    521\u001b[0m \u001b[38;5;28;01mfor\u001b[39;00m processor \u001b[38;5;129;01min\u001b[39;00m \u001b[38;5;28mself\u001b[39m\u001b[38;5;241m.\u001b[39mprocess_response\u001b[38;5;241m.\u001b[39mget(protocol, []):\n\u001b[0;32m    522\u001b[0m     meth \u001b[38;5;241m=\u001b[39m \u001b[38;5;28mgetattr\u001b[39m(processor, meth_name)\n\u001b[1;32m--> 523\u001b[0m     response \u001b[38;5;241m=\u001b[39m \u001b[43mmeth\u001b[49m\u001b[43m(\u001b[49m\u001b[43mreq\u001b[49m\u001b[43m,\u001b[49m\u001b[43m \u001b[49m\u001b[43mresponse\u001b[49m\u001b[43m)\u001b[49m\n\u001b[0;32m    525\u001b[0m \u001b[38;5;28;01mreturn\u001b[39;00m response\n",
      "File \u001b[1;32m~\\miniconda3\\lib\\urllib\\request.py:632\u001b[0m, in \u001b[0;36mHTTPErrorProcessor.http_response\u001b[1;34m(self, request, response)\u001b[0m\n\u001b[0;32m    629\u001b[0m \u001b[38;5;66;03m# According to RFC 2616, \"2xx\" code indicates that the client's\u001b[39;00m\n\u001b[0;32m    630\u001b[0m \u001b[38;5;66;03m# request was successfully received, understood, and accepted.\u001b[39;00m\n\u001b[0;32m    631\u001b[0m \u001b[38;5;28;01mif\u001b[39;00m \u001b[38;5;129;01mnot\u001b[39;00m (\u001b[38;5;241m200\u001b[39m \u001b[38;5;241m<\u001b[39m\u001b[38;5;241m=\u001b[39m code \u001b[38;5;241m<\u001b[39m \u001b[38;5;241m300\u001b[39m):\n\u001b[1;32m--> 632\u001b[0m     response \u001b[38;5;241m=\u001b[39m \u001b[38;5;28;43mself\u001b[39;49m\u001b[38;5;241;43m.\u001b[39;49m\u001b[43mparent\u001b[49m\u001b[38;5;241;43m.\u001b[39;49m\u001b[43merror\u001b[49m\u001b[43m(\u001b[49m\n\u001b[0;32m    633\u001b[0m \u001b[43m        \u001b[49m\u001b[38;5;124;43m'\u001b[39;49m\u001b[38;5;124;43mhttp\u001b[39;49m\u001b[38;5;124;43m'\u001b[39;49m\u001b[43m,\u001b[49m\u001b[43m \u001b[49m\u001b[43mrequest\u001b[49m\u001b[43m,\u001b[49m\u001b[43m \u001b[49m\u001b[43mresponse\u001b[49m\u001b[43m,\u001b[49m\u001b[43m \u001b[49m\u001b[43mcode\u001b[49m\u001b[43m,\u001b[49m\u001b[43m \u001b[49m\u001b[43mmsg\u001b[49m\u001b[43m,\u001b[49m\u001b[43m \u001b[49m\u001b[43mhdrs\u001b[49m\u001b[43m)\u001b[49m\n\u001b[0;32m    635\u001b[0m \u001b[38;5;28;01mreturn\u001b[39;00m response\n",
      "File \u001b[1;32m~\\miniconda3\\lib\\urllib\\request.py:561\u001b[0m, in \u001b[0;36mOpenerDirector.error\u001b[1;34m(self, proto, *args)\u001b[0m\n\u001b[0;32m    559\u001b[0m \u001b[38;5;28;01mif\u001b[39;00m http_err:\n\u001b[0;32m    560\u001b[0m     args \u001b[38;5;241m=\u001b[39m (\u001b[38;5;28mdict\u001b[39m, \u001b[38;5;124m'\u001b[39m\u001b[38;5;124mdefault\u001b[39m\u001b[38;5;124m'\u001b[39m, \u001b[38;5;124m'\u001b[39m\u001b[38;5;124mhttp_error_default\u001b[39m\u001b[38;5;124m'\u001b[39m) \u001b[38;5;241m+\u001b[39m orig_args\n\u001b[1;32m--> 561\u001b[0m     \u001b[38;5;28;01mreturn\u001b[39;00m \u001b[38;5;28;43mself\u001b[39;49m\u001b[38;5;241;43m.\u001b[39;49m\u001b[43m_call_chain\u001b[49m\u001b[43m(\u001b[49m\u001b[38;5;241;43m*\u001b[39;49m\u001b[43margs\u001b[49m\u001b[43m)\u001b[49m\n",
      "File \u001b[1;32m~\\miniconda3\\lib\\urllib\\request.py:494\u001b[0m, in \u001b[0;36mOpenerDirector._call_chain\u001b[1;34m(self, chain, kind, meth_name, *args)\u001b[0m\n\u001b[0;32m    492\u001b[0m \u001b[38;5;28;01mfor\u001b[39;00m handler \u001b[38;5;129;01min\u001b[39;00m handlers:\n\u001b[0;32m    493\u001b[0m     func \u001b[38;5;241m=\u001b[39m \u001b[38;5;28mgetattr\u001b[39m(handler, meth_name)\n\u001b[1;32m--> 494\u001b[0m     result \u001b[38;5;241m=\u001b[39m \u001b[43mfunc\u001b[49m\u001b[43m(\u001b[49m\u001b[38;5;241;43m*\u001b[39;49m\u001b[43margs\u001b[49m\u001b[43m)\u001b[49m\n\u001b[0;32m    495\u001b[0m     \u001b[38;5;28;01mif\u001b[39;00m result \u001b[38;5;129;01mis\u001b[39;00m \u001b[38;5;129;01mnot\u001b[39;00m \u001b[38;5;28;01mNone\u001b[39;00m:\n\u001b[0;32m    496\u001b[0m         \u001b[38;5;28;01mreturn\u001b[39;00m result\n",
      "File \u001b[1;32m~\\miniconda3\\lib\\urllib\\request.py:641\u001b[0m, in \u001b[0;36mHTTPDefaultErrorHandler.http_error_default\u001b[1;34m(self, req, fp, code, msg, hdrs)\u001b[0m\n\u001b[0;32m    640\u001b[0m \u001b[38;5;28;01mdef\u001b[39;00m\u001b[38;5;250m \u001b[39m\u001b[38;5;21mhttp_error_default\u001b[39m(\u001b[38;5;28mself\u001b[39m, req, fp, code, msg, hdrs):\n\u001b[1;32m--> 641\u001b[0m     \u001b[38;5;28;01mraise\u001b[39;00m HTTPError(req\u001b[38;5;241m.\u001b[39mfull_url, code, msg, hdrs, fp)\n",
      "\u001b[1;31mHTTPError\u001b[0m: HTTP Error 400: Bad Request"
     ]
    }
   ],
   "source": [
    "import cv2\n",
    "import pytube\n",
    "import ffmpeg\n",
    "import os\n",
    "\n",
    "# YouTube video URL\n",
    "youtube_url = \"https://www.youtube.com/watch?v=jl-sgSDwJHs\"\n",
    "\n",
    "# Download the video\n",
    "yt = pytube.YouTube(youtube_url)\n",
    "video_stream = yt.streams.filter(res=\"720p\", file_extension=\"mp4\").first()\n",
    "audio_stream = yt.streams.filter(only_audio=True, file_extension=\"mp4\").first()\n",
    "\n",
    "# Define file paths\n",
    "video_path = \"video.mp4\"\n",
    "audio_path = \"audio.mp4\"\n",
    "output_path = \"final_output.mp4\"\n",
    "\n",
    "# Download video and audio\n",
    "video_stream.download(filename=video_path)\n",
    "audio_stream.download(filename=audio_path)\n",
    "\n",
    "# Merge audio and video using FFmpeg\n",
    "input_video = ffmpeg.input(video_path)\n",
    "input_audio = ffmpeg.input(audio_path)\n",
    "\n",
    "ffmpeg.output(input_video, input_audio, output_path, vcodec=\"copy\", acodec=\"aac\").run()\n",
    "\n",
    "# Cleanup temporary files\n",
    "os.remove(video_path)\n",
    "os.remove(audio_path)\n",
    "\n",
    "print(f\"Final video saved as: {output_path}\")\n"
   ]
  },
  {
   "cell_type": "code",
   "execution_count": 13,
   "id": "e9743bd4",
   "metadata": {},
   "outputs": [
    {
     "name": "stdout",
     "output_type": "stream",
     "text": [
      "Collecting pafy\n",
      "  Downloading pafy-0.5.5-py2.py3-none-any.whl (35 kB)\n",
      "Collecting yt-dlp\n",
      "  Downloading yt_dlp-2025.3.31-py3-none-any.whl (3.2 MB)\n",
      "Requirement already satisfied: opencv-python in c:\\users\\nagur\\miniconda3\\lib\\site-packages (4.7.0.72)\n",
      "Collecting ffmpeg-python\n",
      "  Downloading ffmpeg_python-0.2.0-py3-none-any.whl (25 kB)\n",
      "Requirement already satisfied: numpy>=1.19.3 in c:\\users\\nagur\\miniconda3\\lib\\site-packages (from opencv-python) (1.24.3)\n",
      "Collecting future\n",
      "  Downloading future-1.0.0-py3-none-any.whl (491 kB)\n",
      "Installing collected packages: future, yt-dlp, pafy, ffmpeg-python\n",
      "Successfully installed ffmpeg-python-0.2.0 future-1.0.0 pafy-0.5.5 yt-dlp-2025.3.31\n"
     ]
    }
   ],
   "source": [
    "!pip install pafy yt-dlp opencv-python ffmpeg-python\n"
   ]
  },
  {
   "cell_type": "code",
   "execution_count": 14,
   "id": "d0c5eda6",
   "metadata": {},
   "outputs": [
    {
     "ename": "ImportError",
     "evalue": "pafy: youtube-dl not found; you can use the internal backend by setting the environmental variable PAFY_BACKEND to \"internal\". It is not enabled by default because it is not as well maintained as the youtube-dl backend.",
     "output_type": "error",
     "traceback": [
      "\u001b[1;31m---------------------------------------------------------------------------\u001b[0m",
      "\u001b[1;31mModuleNotFoundError\u001b[0m                       Traceback (most recent call last)",
      "File \u001b[1;32m~\\miniconda3\\lib\\site-packages\\pafy\\pafy.py:48\u001b[0m\n\u001b[0;32m     47\u001b[0m \u001b[38;5;28;01mtry\u001b[39;00m:\n\u001b[1;32m---> 48\u001b[0m     \u001b[38;5;28;01mimport\u001b[39;00m\u001b[38;5;250m \u001b[39m\u001b[38;5;21;01myoutube_dl\u001b[39;00m\n\u001b[0;32m     49\u001b[0m     backend \u001b[38;5;241m=\u001b[39m \u001b[38;5;124m\"\u001b[39m\u001b[38;5;124myoutube-dl\u001b[39m\u001b[38;5;124m\"\u001b[39m\n",
      "\u001b[1;31mModuleNotFoundError\u001b[0m: No module named 'youtube_dl'",
      "\nDuring handling of the above exception, another exception occurred:\n",
      "\u001b[1;31mImportError\u001b[0m                               Traceback (most recent call last)",
      "Cell \u001b[1;32mIn[14], line 1\u001b[0m\n\u001b[1;32m----> 1\u001b[0m \u001b[38;5;28;01mimport\u001b[39;00m\u001b[38;5;250m \u001b[39m\u001b[38;5;21;01mpafy\u001b[39;00m\n\u001b[0;32m      3\u001b[0m pafy\u001b[38;5;241m.\u001b[39mset_backend(\u001b[38;5;124m\"\u001b[39m\u001b[38;5;124myt-dlp\u001b[39m\u001b[38;5;124m\"\u001b[39m)\n",
      "File \u001b[1;32m~\\miniconda3\\lib\\site-packages\\pafy\\__init__.py:7\u001b[0m\n\u001b[0;32m      3\u001b[0m __license__ \u001b[38;5;241m=\u001b[39m \u001b[38;5;124m\"\u001b[39m\u001b[38;5;124mLGPLv3\u001b[39m\u001b[38;5;124m\"\u001b[39m\n\u001b[0;32m      6\u001b[0m \u001b[38;5;66;03m# External api\u001b[39;00m\n\u001b[1;32m----> 7\u001b[0m \u001b[38;5;28;01mfrom\u001b[39;00m\u001b[38;5;250m \u001b[39m\u001b[38;5;21;01m.\u001b[39;00m\u001b[38;5;21;01mpafy\u001b[39;00m\u001b[38;5;250m \u001b[39m\u001b[38;5;28;01mimport\u001b[39;00m new\n\u001b[0;32m      8\u001b[0m \u001b[38;5;28;01mfrom\u001b[39;00m\u001b[38;5;250m \u001b[39m\u001b[38;5;21;01m.\u001b[39;00m\u001b[38;5;21;01mpafy\u001b[39;00m\u001b[38;5;250m \u001b[39m\u001b[38;5;28;01mimport\u001b[39;00m set_api_key\n\u001b[0;32m      9\u001b[0m \u001b[38;5;28;01mfrom\u001b[39;00m\u001b[38;5;250m \u001b[39m\u001b[38;5;21;01m.\u001b[39;00m\u001b[38;5;21;01mpafy\u001b[39;00m\u001b[38;5;250m \u001b[39m\u001b[38;5;28;01mimport\u001b[39;00m load_cache, dump_cache\n",
      "File \u001b[1;32m~\\miniconda3\\lib\\site-packages\\pafy\\pafy.py:51\u001b[0m\n\u001b[0;32m     49\u001b[0m         backend \u001b[38;5;241m=\u001b[39m \u001b[38;5;124m\"\u001b[39m\u001b[38;5;124myoutube-dl\u001b[39m\u001b[38;5;124m\"\u001b[39m\n\u001b[0;32m     50\u001b[0m     \u001b[38;5;28;01mexcept\u001b[39;00m \u001b[38;5;167;01mImportError\u001b[39;00m:\n\u001b[1;32m---> 51\u001b[0m         \u001b[38;5;28;01mraise\u001b[39;00m \u001b[38;5;167;01mImportError\u001b[39;00m(\n\u001b[0;32m     52\u001b[0m                \u001b[38;5;124m\"\u001b[39m\u001b[38;5;124mpafy: youtube-dl not found; you can use the internal backend by \u001b[39m\u001b[38;5;124m\"\u001b[39m\n\u001b[0;32m     53\u001b[0m                \u001b[38;5;124m\"\u001b[39m\u001b[38;5;124msetting the environmental variable PAFY_BACKEND to \u001b[39m\u001b[38;5;130;01m\\\"\u001b[39;00m\u001b[38;5;124minternal\u001b[39m\u001b[38;5;130;01m\\\"\u001b[39;00m\u001b[38;5;124m. \u001b[39m\u001b[38;5;124m\"\u001b[39m\n\u001b[0;32m     54\u001b[0m                \u001b[38;5;124m\"\u001b[39m\u001b[38;5;124mIt is not enabled by default because it is not as well maintained \u001b[39m\u001b[38;5;124m\"\u001b[39m\n\u001b[0;32m     55\u001b[0m                \u001b[38;5;124m\"\u001b[39m\u001b[38;5;124mas the youtube-dl backend.\u001b[39m\u001b[38;5;124m\"\u001b[39m)\n\u001b[0;32m     57\u001b[0m \u001b[38;5;28;01mif\u001b[39;00m os\u001b[38;5;241m.\u001b[39menviron\u001b[38;5;241m.\u001b[39mget(\u001b[38;5;124m\"\u001b[39m\u001b[38;5;124mpafydebug\u001b[39m\u001b[38;5;124m\"\u001b[39m) \u001b[38;5;241m==\u001b[39m \u001b[38;5;124m\"\u001b[39m\u001b[38;5;124m1\u001b[39m\u001b[38;5;124m\"\u001b[39m:\n\u001b[0;32m     58\u001b[0m     logging\u001b[38;5;241m.\u001b[39mbasicConfig(level\u001b[38;5;241m=\u001b[39mlogging\u001b[38;5;241m.\u001b[39mDEBUG)\n",
      "\u001b[1;31mImportError\u001b[0m: pafy: youtube-dl not found; you can use the internal backend by setting the environmental variable PAFY_BACKEND to \"internal\". It is not enabled by default because it is not as well maintained as the youtube-dl backend."
     ]
    }
   ],
   "source": [
    "import pafy\n",
    "\n",
    "pafy.set_backend(\"yt-dlp\")\n"
   ]
  },
  {
   "cell_type": "code",
   "execution_count": 15,
   "id": "26f5f729",
   "metadata": {},
   "outputs": [
    {
     "ename": "ImportError",
     "evalue": "pafy: youtube-dl not found; you can use the internal backend by setting the environmental variable PAFY_BACKEND to \"internal\". It is not enabled by default because it is not as well maintained as the youtube-dl backend.",
     "output_type": "error",
     "traceback": [
      "\u001b[1;31m---------------------------------------------------------------------------\u001b[0m",
      "\u001b[1;31mModuleNotFoundError\u001b[0m                       Traceback (most recent call last)",
      "File \u001b[1;32m~\\miniconda3\\lib\\site-packages\\pafy\\pafy.py:48\u001b[0m\n\u001b[0;32m     47\u001b[0m \u001b[38;5;28;01mtry\u001b[39;00m:\n\u001b[1;32m---> 48\u001b[0m     \u001b[38;5;28;01mimport\u001b[39;00m\u001b[38;5;250m \u001b[39m\u001b[38;5;21;01myoutube_dl\u001b[39;00m\n\u001b[0;32m     49\u001b[0m     backend \u001b[38;5;241m=\u001b[39m \u001b[38;5;124m\"\u001b[39m\u001b[38;5;124myoutube-dl\u001b[39m\u001b[38;5;124m\"\u001b[39m\n",
      "\u001b[1;31mModuleNotFoundError\u001b[0m: No module named 'youtube_dl'",
      "\nDuring handling of the above exception, another exception occurred:\n",
      "\u001b[1;31mImportError\u001b[0m                               Traceback (most recent call last)",
      "Cell \u001b[1;32mIn[15], line 1\u001b[0m\n\u001b[1;32m----> 1\u001b[0m \u001b[38;5;28;01mimport\u001b[39;00m\u001b[38;5;250m \u001b[39m\u001b[38;5;21;01mpafy\u001b[39;00m\n\u001b[0;32m      2\u001b[0m pafy\u001b[38;5;241m.\u001b[39mset_backend(\u001b[38;5;124m\"\u001b[39m\u001b[38;5;124myt-dlp\u001b[39m\u001b[38;5;124m\"\u001b[39m)\n",
      "File \u001b[1;32m~\\miniconda3\\lib\\site-packages\\pafy\\__init__.py:7\u001b[0m\n\u001b[0;32m      3\u001b[0m __license__ \u001b[38;5;241m=\u001b[39m \u001b[38;5;124m\"\u001b[39m\u001b[38;5;124mLGPLv3\u001b[39m\u001b[38;5;124m\"\u001b[39m\n\u001b[0;32m      6\u001b[0m \u001b[38;5;66;03m# External api\u001b[39;00m\n\u001b[1;32m----> 7\u001b[0m \u001b[38;5;28;01mfrom\u001b[39;00m\u001b[38;5;250m \u001b[39m\u001b[38;5;21;01m.\u001b[39;00m\u001b[38;5;21;01mpafy\u001b[39;00m\u001b[38;5;250m \u001b[39m\u001b[38;5;28;01mimport\u001b[39;00m new\n\u001b[0;32m      8\u001b[0m \u001b[38;5;28;01mfrom\u001b[39;00m\u001b[38;5;250m \u001b[39m\u001b[38;5;21;01m.\u001b[39;00m\u001b[38;5;21;01mpafy\u001b[39;00m\u001b[38;5;250m \u001b[39m\u001b[38;5;28;01mimport\u001b[39;00m set_api_key\n\u001b[0;32m      9\u001b[0m \u001b[38;5;28;01mfrom\u001b[39;00m\u001b[38;5;250m \u001b[39m\u001b[38;5;21;01m.\u001b[39;00m\u001b[38;5;21;01mpafy\u001b[39;00m\u001b[38;5;250m \u001b[39m\u001b[38;5;28;01mimport\u001b[39;00m load_cache, dump_cache\n",
      "File \u001b[1;32m~\\miniconda3\\lib\\site-packages\\pafy\\pafy.py:51\u001b[0m\n\u001b[0;32m     49\u001b[0m         backend \u001b[38;5;241m=\u001b[39m \u001b[38;5;124m\"\u001b[39m\u001b[38;5;124myoutube-dl\u001b[39m\u001b[38;5;124m\"\u001b[39m\n\u001b[0;32m     50\u001b[0m     \u001b[38;5;28;01mexcept\u001b[39;00m \u001b[38;5;167;01mImportError\u001b[39;00m:\n\u001b[1;32m---> 51\u001b[0m         \u001b[38;5;28;01mraise\u001b[39;00m \u001b[38;5;167;01mImportError\u001b[39;00m(\n\u001b[0;32m     52\u001b[0m                \u001b[38;5;124m\"\u001b[39m\u001b[38;5;124mpafy: youtube-dl not found; you can use the internal backend by \u001b[39m\u001b[38;5;124m\"\u001b[39m\n\u001b[0;32m     53\u001b[0m                \u001b[38;5;124m\"\u001b[39m\u001b[38;5;124msetting the environmental variable PAFY_BACKEND to \u001b[39m\u001b[38;5;130;01m\\\"\u001b[39;00m\u001b[38;5;124minternal\u001b[39m\u001b[38;5;130;01m\\\"\u001b[39;00m\u001b[38;5;124m. \u001b[39m\u001b[38;5;124m\"\u001b[39m\n\u001b[0;32m     54\u001b[0m                \u001b[38;5;124m\"\u001b[39m\u001b[38;5;124mIt is not enabled by default because it is not as well maintained \u001b[39m\u001b[38;5;124m\"\u001b[39m\n\u001b[0;32m     55\u001b[0m                \u001b[38;5;124m\"\u001b[39m\u001b[38;5;124mas the youtube-dl backend.\u001b[39m\u001b[38;5;124m\"\u001b[39m)\n\u001b[0;32m     57\u001b[0m \u001b[38;5;28;01mif\u001b[39;00m os\u001b[38;5;241m.\u001b[39menviron\u001b[38;5;241m.\u001b[39mget(\u001b[38;5;124m\"\u001b[39m\u001b[38;5;124mpafydebug\u001b[39m\u001b[38;5;124m\"\u001b[39m) \u001b[38;5;241m==\u001b[39m \u001b[38;5;124m\"\u001b[39m\u001b[38;5;124m1\u001b[39m\u001b[38;5;124m\"\u001b[39m:\n\u001b[0;32m     58\u001b[0m     logging\u001b[38;5;241m.\u001b[39mbasicConfig(level\u001b[38;5;241m=\u001b[39mlogging\u001b[38;5;241m.\u001b[39mDEBUG)\n",
      "\u001b[1;31mImportError\u001b[0m: pafy: youtube-dl not found; you can use the internal backend by setting the environmental variable PAFY_BACKEND to \"internal\". It is not enabled by default because it is not as well maintained as the youtube-dl backend."
     ]
    }
   ],
   "source": [
    "import pafy\n",
    "pafy.set_backend(\"yt-dlp\")  # Set yt-dlp as the backend\n"
   ]
  },
  {
   "cell_type": "code",
   "execution_count": null,
   "id": "cef10c4b",
   "metadata": {},
   "outputs": [],
   "source": []
  },
  {
   "cell_type": "code",
   "execution_count": null,
   "id": "3bee810c",
   "metadata": {},
   "outputs": [],
   "source": []
  }
 ],
 "metadata": {
  "kernelspec": {
   "display_name": "Python 3 (ipykernel)",
   "language": "python",
   "name": "python3"
  },
  "language_info": {
   "codemirror_mode": {
    "name": "ipython",
    "version": 3
   },
   "file_extension": ".py",
   "mimetype": "text/x-python",
   "name": "python",
   "nbconvert_exporter": "python",
   "pygments_lexer": "ipython3",
   "version": "3.9.12"
  }
 },
 "nbformat": 4,
 "nbformat_minor": 5
}
